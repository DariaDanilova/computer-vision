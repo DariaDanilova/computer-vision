{
 "cells": [
  {
   "cell_type": "code",
   "execution_count": null,
   "metadata": {},
   "outputs": [],
   "source": [
    "import numpy\n",
    "import cv2\n",
    "import glob"
   ]
  },
  {
   "cell_type": "code",
   "execution_count": null,
   "metadata": {},
   "outputs": [],
   "source": [
    "def save_image(new_path, i, dst):\n",
    "    #прописываем весь путь для нового изображения с именем, под которым сохранится картинка\n",
    "    undist_img_filename = new_path + str(i) + '.jpg'\n",
    "\n",
    "    cv2.imwrite(undist_img_filename, dst) "
   ]
  },
  {
   "cell_type": "code",
   "execution_count": null,
   "metadata": {},
   "outputs": [],
   "source": [
    "def undistort_images(distorted_img, new_path, camera_matrix, dist_coefs):\n",
    "    \n",
    "    i = 0\n",
    "    #для каждого изображения из папки:\n",
    "    while i < len(distorted_img):\n",
    "        img = cv2.imread(distorted_img[i])\n",
    "\n",
    "        img_height, img_width = img.shape[:2]\n",
    "        newcameramtx, roi = cv2.getOptimalNewCameraMatrix(camera_matrix, dist_coefs, (img_width, img_height), 1, (img_width, img_height))\n",
    "        \n",
    "        #избавляемся от дисторсии\n",
    "        dst = cv2.undistort(img, camera_matrix, dist_coefs, None, newcameramtx)\n",
    "\n",
    "        #обрезаем изображение\n",
    "        x, y, img_width, img_height = roi\n",
    "        dst = dst[y:y+img_height, x:x+img_width]\n",
    "        \n",
    "        save_image(new_path, i, dst)\n",
    "        \n",
    "        i += 1"
   ]
  },
  {
   "cell_type": "code",
   "execution_count": null,
   "metadata": {},
   "outputs": [],
   "source": [
    "#пути до каждой исходной (с дисторсией) картинки\n",
    "distorted_imgs_right = [img for img in glob.glob(\"D:/right/*.jpg\")]\n",
    "#путь, где сохранится результат\n",
    "new_path_right = \"D:/undistorted_right/\"\n",
    "\n",
    "distorted_imgs_left = [img for img in glob.glob(\"D:/left/*.jpg\")]\n",
    "new_path_left = \"D:/undistorted_left/\""
   ]
  },
  {
   "cell_type": "code",
   "execution_count": null,
   "metadata": {},
   "outputs": [],
   "source": [
    "#данные из файла matlab.yml\n",
    "camera_matrix_right = numpy.array([[8.470537e+02, 0.000000e+00, 1.008857e+03],\n",
    "                                   [0.000000e+00, 8.468799e+02, 7.646282e+02],\n",
    "                                   [0.000000e+00, 0.000000e+00, 1.000000e+00]]);\n",
    "dist_coefs_right = numpy.array([-3.436624e-01, 1.443696e-01, -1.901210e-04, 5.783459e-04, -3.239423e-02]);"
   ]
  },
  {
   "cell_type": "code",
   "execution_count": null,
   "metadata": {},
   "outputs": [],
   "source": [
    "#данные из файла matlab.yml\n",
    "camera_matrix_left = numpy.array([[8.486532e+02, 0.000000e+00, 1.018885e+03],\n",
    "                                  [0.000000e+00, 8.481585e+02, 7.550834e+02],\n",
    "                                  [0.000000e+00, 0.000000e+00, 1.000000e+00]]);\n",
    "dist_coefs_left = numpy.array([-3.488473e-01, 1.507332e-01, -1.961355e-04, 4.837649e-04, -3.500302e-02]);"
   ]
  },
  {
   "cell_type": "code",
   "execution_count": null,
   "metadata": {},
   "outputs": [],
   "source": [
    "#для правой камеры\n",
    "undistort_images(distorted_imgs_right, new_path_right, camera_matrix_right, dist_coefs_right)"
   ]
  },
  {
   "cell_type": "code",
   "execution_count": null,
   "metadata": {},
   "outputs": [],
   "source": [
    "#для левой камеры\n",
    "undistort_images(distorted_imgs_left, new_path_left, camera_matrix_left, dist_coefs_left)"
   ]
  }
 ],
 "metadata": {
  "kernelspec": {
   "display_name": "Python 3",
   "language": "python",
   "name": "python3"
  },
  "language_info": {
   "codemirror_mode": {
    "name": "ipython",
    "version": 3
   },
   "file_extension": ".py",
   "mimetype": "text/x-python",
   "name": "python",
   "nbconvert_exporter": "python",
   "pygments_lexer": "ipython3",
   "version": "3.8.5"
  }
 },
 "nbformat": 4,
 "nbformat_minor": 4
}
