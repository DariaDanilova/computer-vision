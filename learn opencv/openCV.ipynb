{
 "cells": [
  {
   "cell_type": "markdown",
   "metadata": {},
   "source": [
    "#### Chapter 1 (read images, videos, webcam)"
   ]
  },
  {
   "cell_type": "code",
   "execution_count": null,
   "metadata": {},
   "outputs": [],
   "source": [
    "import cv2 as cv"
   ]
  },
  {
   "cell_type": "code",
   "execution_count": null,
   "metadata": {},
   "outputs": [],
   "source": [
    "#читаем картинку\n",
    "img = cv.imread('big.jpg')\n",
    "cv.imshow('Cat', img)\n",
    "cv.waitKey(0)"
   ]
  },
  {
   "cell_type": "code",
   "execution_count": null,
   "metadata": {},
   "outputs": [],
   "source": [
    "# просмотреть видео\n",
    "capture = cv.VideoCapture('Ballet Beautiful_ How To Perfect Your Posture.mp4')"
   ]
  },
  {
   "cell_type": "code",
   "execution_count": null,
   "metadata": {},
   "outputs": [],
   "source": [
    "while True:\n",
    "    succes, img = capture.read() #succes принимает значения True или False\n",
    "    cv.imshow('Video', img)\n",
    "    #если хотим выйти из цикла (закрыть видео)\n",
    "    if cv.waitKey(20) & 0xFF==ord('d'):\n",
    "        break\n",
    "\n",
    "capture.release()\n",
    "cv.destroyAllWindows()"
   ]
  },
  {
   "cell_type": "code",
   "execution_count": null,
   "metadata": {},
   "outputs": [],
   "source": [
    "# камера\n",
    "cap = cv.VideoCapture(0)\n",
    "cap.set(3, 640)\n",
    "cap.set(4, 480)\n",
    "cap.set(10, 100)\n",
    "while True:\n",
    "    succes, img = cap.read() #succes принимает значения True или False\n",
    "    cv.imshow('Camera', img)\n",
    "    #если хотим выйти из цикла\n",
    "    if cv.waitKey(20) & 0xFF==ord('q'):\n",
    "        break"
   ]
  },
  {
   "cell_type": "markdown",
   "metadata": {},
   "source": [
    "#### Chapter 2 (basic functions)"
   ]
  },
  {
   "cell_type": "code",
   "execution_count": null,
   "metadata": {},
   "outputs": [],
   "source": [
    "#поменяем цвет картинки на серый, размоем и сделаем границы\n",
    "img = cv.imread('big.jpg')\n",
    "\n",
    "imgGray = cv.cvtColor(img, cv.COLOR_BGR2GRAY) # серый цвет\n",
    "imgBlur = cv.GaussianBlur(imgGray, (7,7), 0) # размытие\n",
    "imgCanny = cv.Canny(img, 100, 100) # границы\n",
    "\n",
    "cv.imshow('Gray Image', imgGray)\n",
    "cv.imshow('Blur Image', imgBlur)\n",
    "cv.imshow('Canny Image', imgCanny)\n",
    "cv.waitKey(0)"
   ]
  },
  {
   "cell_type": "code",
   "execution_count": null,
   "metadata": {},
   "outputs": [],
   "source": [
    "import numpy as np"
   ]
  },
  {
   "cell_type": "code",
   "execution_count": null,
   "metadata": {},
   "outputs": [],
   "source": [
    "kernel = np.ones((7, 7), np.uint8)\n",
    "\n",
    "imgDialation = cv.dilate(imgCanny, kernel, iterations=1) #расширим изображение imgCanny\n",
    "imgEroded = cv.erode(imgDialation, kernel, iterations=1) #сузим изображение imgDialation\n",
    "\n",
    "cv.imshow('Canny Image', imgCanny)\n",
    "cv.imshow('Dialation Image', imgDialation)\n",
    "cv.imshow('Eroded Image', imgEroded)\n",
    "cv.waitKey(0)"
   ]
  },
  {
   "cell_type": "markdown",
   "metadata": {},
   "source": [
    "#### Chapter 3 (resizing and cropping)"
   ]
  },
  {
   "cell_type": "code",
   "execution_count": null,
   "metadata": {},
   "outputs": [],
   "source": [
    "img.shape #высота, ширина"
   ]
  },
  {
   "cell_type": "code",
   "execution_count": null,
   "metadata": {},
   "outputs": [],
   "source": [
    "#изменим размер картинки\n",
    "imgResized = cv.resize(img, (200, 300)) #в opencv наоборот: сначала ширина, потом высота\n",
    "\n",
    "cv.imshow('Image', img)\n",
    "cv.imshow('Resized Image', imgResized)\n",
    "cv.waitKey(0)"
   ]
  },
  {
   "cell_type": "code",
   "execution_count": null,
   "metadata": {},
   "outputs": [],
   "source": [
    "# обрежем картинку\n",
    "impCropped = img[0:200, 100:400]\n",
    "cv.imshow('Cropped Image', impCropped)\n",
    "cv.imshow('Image', img)\n",
    "cv.waitKey(0)"
   ]
  },
  {
   "cell_type": "markdown",
   "metadata": {},
   "source": [
    "#### Chapter 4 (shapes and texts)"
   ]
  },
  {
   "cell_type": "code",
   "execution_count": null,
   "metadata": {},
   "outputs": [],
   "source": [
    "#нарисуем матрицу состоящую из нулей (нули - черный цвет)\n",
    "img = np.zeros((512, 512, 3), np.uint8)\n",
    "#print(img)\n",
    "\n",
    "#изменим цвет изображения\n",
    "#сначала высота, потом ширина\n",
    "img[200:300, 100:300] = 245, 100, 120\n",
    "\n",
    "cv.imshow('Image', img)\n",
    "cv.waitKey(0)"
   ]
  },
  {
   "cell_type": "code",
   "execution_count": null,
   "metadata": {},
   "outputs": [],
   "source": [
    "#построим линии\n",
    "cv.line(img, (0, 0), (300, 300), (0, 255, 0), 3) #начальная точка, конечная точка, цвет, толщина\n",
    "cv.line(img, (0, 0), (img.shape[1], img.shape[0]), (255, 0, 0), 1) #линия из (0,0) до конца\n",
    "\n",
    "cv.imshow('Image', img)\n",
    "cv.waitKey(0)"
   ]
  },
  {
   "cell_type": "code",
   "execution_count": null,
   "metadata": {},
   "outputs": [],
   "source": [
    "#построим прямоугольник\n",
    "cv.rectangle(img, (0,0), (250,350), (0,255,255), 2) #начальная точка, конечная точка, цвет, толщина\n",
    "cv.rectangle(img, (200, 300), (400,250), (0,0,255), cv.FILLED) #прямоугольник заполненный цветом\n",
    "\n",
    "cv.imshow('Image', img)\n",
    "cv.waitKey(0)"
   ]
  },
  {
   "cell_type": "code",
   "execution_count": null,
   "metadata": {},
   "outputs": [],
   "source": [
    "#построим круг\n",
    "cv.circle(img, (400, 50), 30, (255, 255, 0), 5) #центр, радиус, цвет, толщина\n",
    "\n",
    "cv.imshow('Image', img)\n",
    "cv.waitKey(0)"
   ]
  },
  {
   "cell_type": "code",
   "execution_count": null,
   "metadata": {},
   "outputs": [],
   "source": [
    "#вставим текст в картинку\n",
    "cv.putText(img, \"Hello, world!\", (300, 100), cv.FONT_HERSHEY_COMPLEX, 0.5, (0, 150, 0), 1) #начальная точка, шрифт, размер шрифта, цвет, толщина\n",
    "\n",
    "cv.imshow('Image', img)\n",
    "cv.waitKey(0)"
   ]
  },
  {
   "cell_type": "markdown",
   "metadata": {},
   "source": [
    "#### Chapter 5 (warp perspective)"
   ]
  },
  {
   "cell_type": "code",
   "execution_count": null,
   "metadata": {},
   "outputs": [],
   "source": [
    "# определим перспективную трансформацию карты на основе 4-х точек\n",
    "img = cv.imread('cards.jpg')\n",
    "\n",
    "width, height = 250, 350 #обычно игральная карта 2.5x3.5 inches, поэтому используем эти цифры для соотношения сторон\n",
    "#четрые точки (углы) карты\n",
    "points1 = np.float32([[6, 365], [206, 281], [371, 469], [150, 586]])\n",
    "#определяем к какому углу относятся соответствующие точки\n",
    "points2 = np.float32([[0, 0], [width, 0], [width, height], [0, height]])\n",
    "\n",
    "#получаем матрицу преобразования\n",
    "matrix = cv.getPerspectiveTransform(points1, points2)\n",
    "#преобразование перспективы\n",
    "imgOutput = cv.warpPerspective(img, matrix, (width, height))\n",
    "\n",
    "cv.imshow('Cards', img)\n",
    "cv.imshow('CardOutput', imgOutput)\n",
    "cv.waitKey(0)"
   ]
  },
  {
   "cell_type": "markdown",
   "metadata": {},
   "source": [
    "#### Chapter 6 (joining images)"
   ]
  },
  {
   "cell_type": "code",
   "execution_count": null,
   "metadata": {},
   "outputs": [],
   "source": [
    "#соединим картинку с самой собой\n",
    "img = cv.imread('big.jpg')\n",
    "\n",
    "#горизонтальное соединение\n",
    "imgHorizontal = np.hstack((img, img))\n",
    "#вертикальное соединение\n",
    "imgVertical = np.vstack((img, img))\n",
    "\n",
    "cv.imshow('Vertical joining', imgVertical)\n",
    "cv.imshow('Horizontal joining', imgHorizontal)\n",
    "\n",
    "cv.waitKey(0)"
   ]
  },
  {
   "cell_type": "markdown",
   "metadata": {},
   "source": [
    "#### Chapter 7 (color detection)"
   ]
  },
  {
   "cell_type": "code",
   "execution_count": null,
   "metadata": {},
   "outputs": [],
   "source": [
    "#определим светло оранжевый цвет на картинке\n",
    "import cv2 as cv\n",
    "\n",
    "def empty(a):\n",
    "    pass\n",
    "\n",
    "cv.namedWindow('TrackBars')\n",
    "cv.resizeWindow('TrackBars', 640, 240)\n",
    "\n",
    "# шесть ползунков\n",
    "# по умолчанию установлена маска (светло оранжевый цвет)\n",
    "cv.createTrackbar('Hue Min', 'TrackBars', 7, 179, empty)\n",
    "cv.createTrackbar('Hue Max', 'TrackBars', 27, 179, empty)\n",
    "cv.createTrackbar('Sat Min', 'TrackBars', 87, 255, empty)\n",
    "cv.createTrackbar('Sat Max', 'TrackBars', 175, 255, empty)\n",
    "cv.createTrackbar('Value Min', 'TrackBars', 107, 255, empty)\n",
    "cv.createTrackbar('Value Max', 'TrackBars', 255, 255, empty)"
   ]
  },
  {
   "cell_type": "code",
   "execution_count": null,
   "metadata": {},
   "outputs": [],
   "source": [
    "import numpy as np\n",
    "#прочитаем значения с ползунков и применим к картинке\n",
    "while True:\n",
    "    img = cv.imread('big.jpg')\n",
    "    #конвертируем изображение в HSV\n",
    "    imgHSV = cv.cvtColor(img, cv.COLOR_BGR2HSV)\n",
    "    h_min = cv.getTrackbarPos('Hue Min', 'TrackBars')\n",
    "    h_max = cv.getTrackbarPos('Hue Max', 'TrackBars')\n",
    "    s_min = cv.getTrackbarPos('Sat Min', 'TrackBars')\n",
    "    s_max = cv.getTrackbarPos('Sat Max', 'TrackBars')\n",
    "    v_min = cv.getTrackbarPos('Value Min', 'TrackBars')\n",
    "    v_max = cv.getTrackbarPos('Value Max', 'TrackBars')\n",
    "    print(h_min, h_max, s_min, s_max, v_min, v_max)\n",
    "    lower = np.array([h_min, s_min, v_min])\n",
    "    upper = np.array([h_max, s_max, v_max])\n",
    "    mask = cv.inRange(imgHSV, lower, upper)\n",
    "    imgResult = cv.bitwise_and(img, img, mask=mask)\n",
    "\n",
    "    \n",
    "    cv.imshow('Original', img)\n",
    "    cv.imshow('HSV', imgHSV)\n",
    "    cv.imshow('Mask', mask)\n",
    "    cv.imshow('Result', imgResult)\n",
    "    cv.waitKey(1)"
   ]
  }
 ],
 "metadata": {
  "kernelspec": {
   "display_name": "Python 3",
   "language": "python",
   "name": "python3"
  },
  "language_info": {
   "codemirror_mode": {
    "name": "ipython",
    "version": 3
   },
   "file_extension": ".py",
   "mimetype": "text/x-python",
   "name": "python",
   "nbconvert_exporter": "python",
   "pygments_lexer": "ipython3",
   "version": "3.8.5"
  }
 },
 "nbformat": 4,
 "nbformat_minor": 4
}
