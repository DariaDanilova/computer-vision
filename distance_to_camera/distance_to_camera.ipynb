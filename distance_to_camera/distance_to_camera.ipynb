{
 "cells": [
  {
   "cell_type": "code",
   "execution_count": 1,
   "metadata": {},
   "outputs": [],
   "source": [
    "from imutils import paths\n",
    "import numpy as np\n",
    "import imutils\n",
    "import cv2\n",
    "\n",
    "def find_marker(image):\n",
    "    # преобразование изображения в оттенки серого, размытие и определение краев\n",
    "    gray = cv2.cvtColor(image, cv2.COLOR_BGR2GRAY)\n",
    "    gray = cv2.GaussianBlur(gray, (5, 5), 0)\n",
    "    edged = cv2.Canny(gray, 35, 125)\n",
    "    # находим контуры на изображении и оставляем самый крупный;\n",
    "    # в нашем случае это лист A4\n",
    "    cnts = cv2.findContours(edged.copy(), cv2.RETR_LIST, cv2.CHAIN_APPROX_SIMPLE)\n",
    "    cnts = imutils.grab_contours(cnts)\n",
    "    c = max(cnts, key = cv2.contourArea)\n",
    "    # вычисляем ограничивающую рамку области листа А4 и возвращаем ее\n",
    "    return cv2.minAreaRect(c)"
   ]
  },
  {
   "cell_type": "code",
   "execution_count": 2,
   "metadata": {},
   "outputs": [],
   "source": [
    "def distance_to_camera(knownWidth, focalLength, perWidth):\n",
    "    # вычислить и вернуть расстояние от объекта до камеры\n",
    "    return (knownWidth * focalLength) / perWidth"
   ]
  },
  {
   "cell_type": "code",
   "execution_count": 3,
   "metadata": {},
   "outputs": [],
   "source": [
    "# инициализируем известное расстояние от камеры до объекта, которое в данном случае 15.748 дюйма\n",
    "KNOWN_DISTANCE = 15.748\n",
    "# инициализируем известную ширину объекта, в данном случае лист бумаги шириной 11.7 дюймов\n",
    "KNOWN_WIDTH = 11.7\n",
    "\n",
    "# загружаем первое изображение, содержащее объект, который находится в 15.748 дюймах(40см) от нашей камеры,\n",
    "# затем находим лист А4 (маркер) на изображении и инициализируем фокусное расстояние\n",
    "image = cv2.imread(\"40.jpg\")\n",
    "marker = find_marker(image)\n",
    "focalLength = (marker[1][0] * KNOWN_DISTANCE) / KNOWN_WIDTH"
   ]
  },
  {
   "cell_type": "code",
   "execution_count": 10,
   "metadata": {},
   "outputs": [
    {
     "data": {
      "text/plain": [
       "-1"
      ]
     },
     "execution_count": 10,
     "metadata": {},
     "output_type": "execute_result"
    }
   ],
   "source": [
    "# загружаем изображение, находим маркер на изображении, затем вычисляем расстояние от камеры до маркера\n",
    "image1 = cv2.imread(\"40.jpg\")\n",
    "image = cv2.resize(image1, (800, 600))\n",
    "marker = find_marker(image)\n",
    "cm = distance_to_camera(KNOWN_WIDTH, focalLength, marker[1][0])\n",
    "# рисуем ограничивающую рамку вокруг маркера и отображаем ее\n",
    "box = cv2.cv.BoxPoints(marker) if imutils.is_cv2() else cv2.boxPoints(marker)\n",
    "box = np.int0(box)\n",
    "cv2.drawContours(image, [box], -1, (0, 255, 0), 2)\n",
    "cv2.putText(image, \"%.2fm\" % (cm / 100),\n",
    "        (image.shape[1] - 200, image.shape[0] - 20), cv2.FONT_HERSHEY_SIMPLEX,\n",
    "        2.0, (0, 255, 0), 3)\n",
    "\n",
    "cv2.imshow(\"image\", image)\n",
    "cv2.waitKey(0)"
   ]
  }
 ],
 "metadata": {
  "kernelspec": {
   "display_name": "Python 3",
   "language": "python",
   "name": "python3"
  },
  "language_info": {
   "codemirror_mode": {
    "name": "ipython",
    "version": 3
   },
   "file_extension": ".py",
   "mimetype": "text/x-python",
   "name": "python",
   "nbconvert_exporter": "python",
   "pygments_lexer": "ipython3",
   "version": "3.8.5"
  }
 },
 "nbformat": 4,
 "nbformat_minor": 4
}
